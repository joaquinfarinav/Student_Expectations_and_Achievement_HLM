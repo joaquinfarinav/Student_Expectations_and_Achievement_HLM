{
 "cells": [
  {
   "cell_type": "code",
   "execution_count": 1,
   "id": "e3ea1b9f",
   "metadata": {},
   "outputs": [],
   "source": [
    "import pandas as pd\n",
    "import numpy as np\n",
    "import pyreadstat"
   ]
  },
  {
   "cell_type": "markdown",
   "id": "bf855f46",
   "metadata": {},
   "source": [
    "# 2015_8b"
   ]
  },
  {
   "cell_type": "code",
   "execution_count": 2,
   "id": "6c9382e9",
   "metadata": {},
   "outputs": [],
   "source": [
    "path = r'C:\\Users\\JoaquinFarina\\OneDrive - Teachers College, Columbia University\\Desktop\\EMELAB\\SIMCE\\2015\\Simce8b2015_privadas-SEG\\Archivos TXT (Planos)'"
   ]
  },
  {
   "cell_type": "markdown",
   "id": "70b7cb48",
   "metadata": {},
   "source": [
    "## CPAD"
   ]
  },
  {
   "cell_type": "markdown",
   "id": "bd7d62fa",
   "metadata": {},
   "source": [
    "cpad_p15\t\"¿Cuál cree usted que es el nivel de educación más alto que el estudiante podrá completar en el futuro? \n",
    "\n",
    "\"\t\"0: Vacío\n",
    "1: No creo que complete IV año de educación media\n",
    "2: IV año de educación media técnico-profesional\n",
    "3: IV año de educación media científico-humanista\n",
    "4: Una carrera en un centro de formación técnica o instituto profesional\n",
    "5: Una carrera en una universidad\n",
    "6: Estudios de postgrado\n",
    "99: Doble marca\""
   ]
  },
  {
   "cell_type": "code",
   "execution_count": 3,
   "id": "1ec280d8",
   "metadata": {},
   "outputs": [],
   "source": [
    "df_apo = pd.read_csv(path + r'\\simce8b2015_cpad_privadas_final-SEG.csv', sep='|')"
   ]
  },
  {
   "cell_type": "code",
   "execution_count": 4,
   "id": "18860529",
   "metadata": {},
   "outputs": [
    {
     "name": "stdout",
     "output_type": "stream",
     "text": [
      "agno\n",
      "codigo_bbdd\n",
      "fecha_bbdd\n",
      "idalumno\n",
      "rbd\n",
      "dvrbd\n",
      "grado\n",
      "curso\n",
      "cod_curso\n",
      "letra_curso\n",
      "cpad_p01\n",
      "cpad_p02\n",
      "cpad_p03\n",
      "cpad_p04\n",
      "cpad_p05_01\n",
      "cpad_p05_02\n",
      "cpad_p05_03\n",
      "cpad_p05_04\n",
      "cpad_p05_05\n",
      "cpad_p05_06\n",
      "cpad_p05_07\n",
      "cpad_p05_08\n",
      "cpad_p05_09\n",
      "cpad_p06\n",
      "cpad_p07\n",
      "cpad_p08\n",
      "cpad_p09_01\n",
      "cpad_p09_02\n",
      "cpad_p10\n",
      "cpad_p11\n",
      "cpad_p12\n",
      "cpad_p13\n",
      "cpad_p14_01\n",
      "cpad_p14_02\n",
      "cpad_p14_03\n",
      "cpad_p14_04\n",
      "cpad_p14_05\n",
      "cpad_p14_06\n",
      "cpad_p14_07\n",
      "cpad_p15\n",
      "cpad_p16\n",
      "cpad_p17_01\n",
      "cpad_p17_02\n",
      "cpad_p17_03\n",
      "cpad_p17_04\n",
      "cpad_p17_05\n",
      "cpad_p17_06\n",
      "cpad_p17_07\n",
      "cpad_p17_08\n",
      "cpad_p17_09\n",
      "cpad_p17_10\n",
      "cpad_p17_11\n",
      "cpad_p18_01\n",
      "cpad_p18_02\n",
      "cpad_p18_03\n",
      "cpad_p18_04\n",
      "cpad_p18_05\n",
      "cpad_p18_06\n",
      "cpad_p18_07\n",
      "cpad_p18_08\n",
      "cpad_p19_01\n",
      "cpad_p19_02\n",
      "cpad_p19_03\n",
      "cpad_p19_04\n",
      "cpad_p19_05\n",
      "cpad_p19_06\n",
      "cpad_p19_07\n",
      "cpad_p19_08\n",
      "cpad_p19_09\n",
      "cpad_p19_10\n",
      "cpad_p19_11\n",
      "cpad_p19_12\n",
      "cpad_p19_13\n",
      "cpad_p20_01\n",
      "cpad_p20_02\n",
      "cpad_p20_03\n",
      "cpad_p20_04\n",
      "cpad_p20_05\n",
      "cpad_p20_06\n",
      "cpad_p21_01\n",
      "cpad_p21_02\n",
      "cpad_p21_03\n",
      "cpad_p21_04\n",
      "cpad_p22_01\n",
      "cpad_p22_02\n",
      "cpad_p23_01\n",
      "cpad_p23_02\n",
      "cpad_p23_03\n",
      "cpad_p23_04\n",
      "cpad_p23_05\n",
      "cpad_p24_01\n",
      "cpad_p24_02\n",
      "cpad_p24_03\n",
      "cpad_p24_04\n",
      "cpad_p24_05\n",
      "cpad_p24_06\n",
      "cpad_p24_07\n",
      "cpad_p24_08\n",
      "cpad_p24_09\n",
      "cpad_p25_01\n",
      "cpad_p25_02\n",
      "cpad_p25_03\n",
      "cpad_p25_04\n",
      "cpad_p25_05\n",
      "cpad_p26_01\n",
      "cpad_p26_02\n",
      "cpad_p26_03\n",
      "cpad_p26_04\n",
      "cpad_p26_05\n",
      "cpad_p26_06\n",
      "cpad_p26_07\n",
      "cpad_p27_01\n",
      "cpad_p27_02\n",
      "cpad_p27_03\n",
      "cpad_p27_04\n",
      "cpad_p27_05\n",
      "cpad_p28_01\n",
      "cpad_p28_02\n",
      "cpad_p29_01\n",
      "cpad_p29_02\n",
      "cpad_p29_03\n",
      "cpad_p29_04\n",
      "cpad_p29_05\n",
      "cpad_p29_06\n",
      "noptje_seg\n"
     ]
    }
   ],
   "source": [
    "for col in df_apo.columns:\n",
    "    print(col)"
   ]
  },
  {
   "cell_type": "code",
   "execution_count": 5,
   "id": "8445ba39",
   "metadata": {
    "scrolled": true
   },
   "outputs": [
    {
     "data": {
      "text/plain": [
       "0.0     0.015345\n",
       "1.0     0.011224\n",
       "2.0     0.080209\n",
       "3.0     0.018995\n",
       "4.0     0.173727\n",
       "5.0     0.489985\n",
       "6.0     0.201254\n",
       "99.0    0.007527\n",
       "NaN     0.001734\n",
       "Name: cpad_p15, dtype: float64"
      ]
     },
     "execution_count": 5,
     "metadata": {},
     "output_type": "execute_result"
    }
   ],
   "source": [
    "df_apo.cpad_p15.value_counts(dropna=False).sort_index()/len(df_apo)"
   ]
  },
  {
   "cell_type": "code",
   "execution_count": 6,
   "id": "1fc7dcac",
   "metadata": {},
   "outputs": [
    {
     "data": {
      "text/plain": [
       "125073    1\n",
       "57278     1\n",
       "164661    1\n",
       "211226    1\n",
       "13900     1\n",
       "         ..\n",
       "219454    1\n",
       "113773    1\n",
       "47699     1\n",
       "29440     1\n",
       "56103     1\n",
       "Name: idalumno, Length: 193159, dtype: int64"
      ]
     },
     "execution_count": 6,
     "metadata": {},
     "output_type": "execute_result"
    }
   ],
   "source": [
    "df_apo.idalumno.value_counts()"
   ]
  },
  {
   "cell_type": "code",
   "execution_count": 7,
   "id": "e9185ed9",
   "metadata": {},
   "outputs": [],
   "source": [
    "df_apo = df_apo[['idalumno','cpad_p15']]"
   ]
  },
  {
   "cell_type": "code",
   "execution_count": 8,
   "id": "f9540615",
   "metadata": {},
   "outputs": [],
   "source": [
    "df_apo = df_apo.rename(columns = {'cpad_p15':'parent_exp'})\n",
    "df_apo.loc[:,'parent_exp_binary'] = np.nan\n",
    "\n",
    "df_apo.loc[df_apo.parent_exp.isin([1,2,3,4]),'parent_exp_binary'] = 0\n",
    "df_apo.loc[df_apo.parent_exp.isin([5,6]),'parent_exp_binary'] = 1 "
   ]
  },
  {
   "cell_type": "code",
   "execution_count": 9,
   "id": "5b1d6f12",
   "metadata": {},
   "outputs": [
    {
     "data": {
      "text/plain": [
       "1.0    0.691239\n",
       "0.0    0.284155\n",
       "NaN    0.024607\n",
       "Name: parent_exp_binary, dtype: float64"
      ]
     },
     "execution_count": 9,
     "metadata": {},
     "output_type": "execute_result"
    }
   ],
   "source": [
    "df_apo.parent_exp_binary.value_counts(dropna=False)/len(df_apo)"
   ]
  },
  {
   "cell_type": "markdown",
   "id": "972c0ccc",
   "metadata": {},
   "source": [
    "## CPROF"
   ]
  },
  {
   "cell_type": "markdown",
   "id": "b2696c69",
   "metadata": {},
   "source": [
    "cprof_p07\t\"Pensando en el futuro, ¿qué nivel educacional cree usted que completará la mayoría de los estudiantes de este curso?\n",
    "\n",
    "\"\t\"0: Vacío\n",
    "1: No creo que completen IV año de educación media\n",
    "2: Terminarán IV año de educación media técnico-profesional\n",
    "3: Terminarán IV año de educación media científico-humanista\n",
    "4: Obtendrán un título en un centro de formación técnica o un instituto profesional\n",
    "5: Obtendrán un título en una universidad\n",
    "6: Completarán estudios de postgrado\n",
    "99: Doble marca\""
   ]
  },
  {
   "cell_type": "code",
   "execution_count": 10,
   "id": "841f9bb5",
   "metadata": {},
   "outputs": [],
   "source": [
    "df_prof = pd.read_csv(path + r'\\simce8b2015_cprof_mate_privada_final_SEG.csv', sep='|')"
   ]
  },
  {
   "cell_type": "code",
   "execution_count": 11,
   "id": "ca8e9a26",
   "metadata": {},
   "outputs": [
    {
     "name": "stdout",
     "output_type": "stream",
     "text": [
      "agno\n",
      "codigo_bbdd\n",
      "fecha_bbdd\n",
      "cod_curso\n",
      "asignatura\n",
      "rbd\n",
      "dvrbd\n",
      "grado\n",
      "curso\n",
      "letra_curso\n",
      "cprof_p02\n",
      "cprof_p03\n",
      "cprof_p04_01\n",
      "cprof_p04_02\n",
      "cprof_p04_03\n",
      "cprof_p04_04\n",
      "cprof_p04_05\n",
      "cprof_p04_06\n",
      "cprof_p04_07\n",
      "cprof_p04_08\n",
      "cprof_p04_09\n",
      "cprof_p04_10\n",
      "cprof_p04_11\n",
      "cprof_p04_12\n",
      "cprof_p04_13\n",
      "cprof_p05_01\n",
      "cprof_p05_02\n",
      "cprof_p05_03\n",
      "cprof_p05_04\n",
      "cprof_p05_05\n",
      "cprof_p06_01\n",
      "cprof_p06_02\n",
      "cprof_p06_03\n",
      "cprof_p06_04\n",
      "cprof_p06_05\n",
      "cprof_p06_06\n",
      "cprof_p06_07\n",
      "cprof_p06_08\n",
      "cprof_p07\n",
      "cprof_p08_01\n",
      "cprof_p08_02\n",
      "cprof_p08_03\n",
      "cprof_p08_04\n",
      "cprof_p08_05\n",
      "cprof_p08_06\n",
      "cprof_p08_07\n",
      "cprof_p09_01\n",
      "cprof_p09_02\n",
      "cprof_p09_03\n",
      "cprof_p09_04\n",
      "cprof_p09_05\n",
      "cprof_p10_01\n",
      "cprof_p10_02\n",
      "cprof_p10_03\n",
      "cprof_p11_01\n",
      "cprof_p11_02\n",
      "cprof_p12_01\n",
      "cprof_p12_02\n",
      "cprof_p12_03\n",
      "cprof_p12_04\n",
      "cprof_p12_05\n",
      "cprof_p13_01\n",
      "cprof_p13_02\n",
      "cprof_p13_03\n",
      "cprof_p14_01\n",
      "cprof_p14_02\n",
      "cprof_p15_01\n",
      "cprof_p15_02\n",
      "cprof_p15_03\n",
      "cprof_p15_04\n",
      "cprof_p15_05\n",
      "cprof_p15_06\n",
      "cprof_p15_07\n",
      "cprof_p15_08\n",
      "cprof_p15_09\n",
      "cprof_p15_10\n",
      "cprof_p15_11\n",
      "cprof_p15_12\n",
      "cprof_p15_13\n",
      "cprof_p16_01\n",
      "cprof_p16_02\n",
      "cprof_p16_03\n",
      "cprof_p16_04\n",
      "cprof_p16_05\n",
      "cprof_p16_06\n",
      "cprof_p16_07\n",
      "cprof_p16_08\n",
      "cprof_p17_01\n",
      "cprof_p17_02\n",
      "cprof_p17_03\n",
      "cprof_p17_04\n",
      "cprof_p18_01\n",
      "cprof_p18_02\n",
      "cprof_p18_03\n",
      "cprof_p18_04\n",
      "cprof_p19_01\n",
      "cprof_p19_02\n",
      "cprof_p19_03\n",
      "cprof_p19_04\n",
      "cprof_p20_01\n",
      "cprof_p20_02\n",
      "cprof_p20_03\n",
      "cprof_p20_04\n",
      "cprof_p20_05\n",
      "cprof_p20_06\n",
      "cprof_p21_01\n",
      "cprof_p21_02\n",
      "cprof_p21_03\n",
      "cprof_p21_04\n",
      "cprof_p21_05\n",
      "cprof_p21_06\n",
      "cprof_p21_07\n",
      "cprof_p21_08\n",
      "cprof_p22_01\n",
      "cprof_p22_02\n",
      "cprof_p22_03\n",
      "cprof_p22_04\n",
      "cprof_p22_05\n",
      "cprof_p22_06\n",
      "cprof_p23\n",
      "cprof_p24_01\n",
      "cprof_p24_02\n",
      "cprof_p24_03\n",
      "cprof_p24_04\n",
      "cprof_p24_05\n",
      "cprof_p24_06\n",
      "cprof_p24_07\n",
      "cprof_p24_08\n",
      "cprof_p25_01\n",
      "cprof_p25_02\n",
      "cprof_p25_03\n",
      "cprof_p26_01\n",
      "cprof_p26_02\n",
      "cprof_p26_03\n",
      "cprof_p26_04\n",
      "cprof_p26_05\n",
      "cprof_p26_06\n",
      "cprof_p27_01\n",
      "cprof_p27_02\n",
      "cprof_p27_03\n",
      "cprof_p27_04\n",
      "cprof_p27_05\n",
      "cprof_p27_06\n",
      "cprof_p27_07\n",
      "cprof_p28_01\n",
      "cprof_p28_02\n",
      "cprof_p28_03\n",
      "cprof_p28_04\n",
      "cprof_p28_05\n",
      "cprof_p28_06\n",
      "cprof_p28_07\n",
      "cprof_p28_08\n",
      "cprof_p28_09\n",
      "cprof_p29_01\n",
      "cprof_p29_02\n",
      "cprof_p29_03\n",
      "cprof_p29_04\n",
      "cprof_p29_05\n",
      "cprof_p30_01\n",
      "cprof_p30_02\n",
      "cprof_p30_03\n",
      "cprof_p30_04\n",
      "cprof_p31_01\n",
      "cprof_p31_02\n",
      "cprof_p31_03\n",
      "cprof_p31_04\n",
      "cprof_p31_05\n",
      "cprof_p31_06\n",
      "cprof_p31_07\n",
      "cprof_p31_08\n",
      "cprof_p32_01\n",
      "cprof_p32_02\n",
      "cprof_p32_03\n",
      "cprof_p32_04\n",
      "cprof_p32_05\n",
      "cprof_p32_06\n",
      "cprof_p32_07\n",
      "cprof_p33_01\n",
      "cprof_p33_02\n",
      "cprof_p33_03\n",
      "cprof_p33_04\n",
      "cprof_p33_05\n",
      "cprof_p33_06\n",
      "cprof_p34_01\n",
      "cprof_p34_02\n",
      "cprof_p34_03\n",
      "cprof_p35_01\n",
      "cprof_p35_02\n",
      "cprof_p35_03\n",
      "cprof_p35_04\n",
      "cprof_p35_05\n",
      "cprof_p35_06\n",
      "cprof_p35_07\n",
      "cprof_p35_08\n",
      "cprof_p35_09\n",
      "cprof_p35_10\n",
      "cprof_p36_01\n",
      "cprof_p36_02\n",
      "cprof_p36_03\n",
      "cprof_p36_04\n",
      "cprof_p36_05\n",
      "cprof_p36_06\n",
      "cprof_p36_07\n",
      "cprof_p36_08\n",
      "cprof_p36_09\n",
      "noptje_seg\n"
     ]
    }
   ],
   "source": [
    "for col in df_prof.columns:\n",
    "    print(col)"
   ]
  },
  {
   "cell_type": "code",
   "execution_count": 12,
   "id": "7aba7a2e",
   "metadata": {},
   "outputs": [
    {
     "data": {
      "text/plain": [
       "0.0     0.004018\n",
       "1.0     0.005478\n",
       "2.0     0.087533\n",
       "3.0     0.028488\n",
       "4.0     0.148527\n",
       "5.0     0.235573\n",
       "6.0     0.028001\n",
       "99.0    0.005600\n",
       "NaN     0.456781\n",
       "Name: cprof_p07, dtype: float64"
      ]
     },
     "execution_count": 12,
     "metadata": {},
     "output_type": "execute_result"
    }
   ],
   "source": [
    "df_prof.cprof_p07.value_counts(dropna=False).sort_index()/len(df_prof)"
   ]
  },
  {
   "cell_type": "code",
   "execution_count": 13,
   "id": "f40bed5b",
   "metadata": {},
   "outputs": [
    {
     "data": {
      "text/plain": [
       "33684    1\n",
       "40474    1\n",
       "41616    1\n",
       "41615    1\n",
       "41614    1\n",
       "        ..\n",
       "36596    1\n",
       "36595    1\n",
       "36594    1\n",
       "36593    1\n",
       "33230    1\n",
       "Name: cod_curso, Length: 8214, dtype: int64"
      ]
     },
     "execution_count": 13,
     "metadata": {},
     "output_type": "execute_result"
    }
   ],
   "source": [
    "df_prof.cod_curso.value_counts()"
   ]
  },
  {
   "cell_type": "code",
   "execution_count": 14,
   "id": "03d097fd",
   "metadata": {},
   "outputs": [],
   "source": [
    "df_prof = df_prof[['cod_curso','cprof_p07']]\n",
    "df_prof = df_prof.rename(columns = {'cprof_p07':'teacher_exp'})\n",
    "df_prof.loc[:,'teacher_exp_binary'] = np.nan\n",
    "\n",
    "df_prof.loc[df_prof.teacher_exp.isin([1,2,3,4]),'teacher_exp_binary'] = 0\n",
    "df_prof.loc[df_prof.teacher_exp.isin([5,6]),'teacher_exp_binary'] = 1 "
   ]
  },
  {
   "cell_type": "code",
   "execution_count": 15,
   "id": "7811fb16",
   "metadata": {},
   "outputs": [
    {
     "data": {
      "text/plain": [
       "NaN    0.466399\n",
       "0.0    0.270027\n",
       "1.0    0.263574\n",
       "Name: teacher_exp_binary, dtype: float64"
      ]
     },
     "execution_count": 15,
     "metadata": {},
     "output_type": "execute_result"
    }
   ],
   "source": [
    "df_prof.teacher_exp_binary.value_counts(dropna=False)/len(df_prof)"
   ]
  },
  {
   "cell_type": "markdown",
   "id": "1d4c83bc",
   "metadata": {},
   "source": [
    "## PUNTAJES"
   ]
  },
  {
   "cell_type": "code",
   "execution_count": 16,
   "id": "b5358c17",
   "metadata": {},
   "outputs": [],
   "source": [
    "df_ptje = pd.read_csv(path + r'\\simce8b2015_alu_mrun_privadas_final-SEG.csv', sep='|')"
   ]
  },
  {
   "cell_type": "code",
   "execution_count": 17,
   "id": "5d611187",
   "metadata": {},
   "outputs": [
    {
     "name": "stdout",
     "output_type": "stream",
     "text": [
      "agno\n",
      "codigo_bbdd\n",
      "fecha_bbdd\n",
      "mrun\n",
      "idalumno\n",
      "gen_alu\n",
      "rbd\n",
      "grado\n",
      "letra_curso\n",
      "cod_curso\n",
      "ptje_lect8b_alu\n",
      "ptje_mate8b_alu\n",
      "ptje_nat8b_alu\n",
      "eem_lect8b_alu\n",
      "eem_mate8b_alu\n",
      "eem_nat8b_alu\n",
      "eda_lect8b_alu\n",
      "eda_mate8b_alu\n",
      "eda_nat8b_alu\n",
      "noptje_lect8b_alu\n",
      "noptje_mate8b_alu\n",
      "noptje_nat8b_alu\n",
      "noptje_seg_mate8b\n",
      "noptje_seg_lect8b\n",
      "noptje_seg_nat8b\n"
     ]
    }
   ],
   "source": [
    "for col in df_ptje.columns:\n",
    "    print(col)"
   ]
  },
  {
   "cell_type": "code",
   "execution_count": 18,
   "id": "ac924860",
   "metadata": {},
   "outputs": [
    {
     "data": {
      "text/plain": [
       "20014    1\n",
       "60638    1\n",
       "60710    1\n",
       "60681    1\n",
       "60637    1\n",
       "        ..\n",
       "91035    1\n",
       "91016    1\n",
       "91018    1\n",
       "91019    1\n",
       "8662     1\n",
       "Name: idalumno, Length: 255607, dtype: int64"
      ]
     },
     "execution_count": 18,
     "metadata": {},
     "output_type": "execute_result"
    }
   ],
   "source": [
    "df_ptje.idalumno.value_counts()"
   ]
  },
  {
   "cell_type": "code",
   "execution_count": 19,
   "id": "abfb3f06",
   "metadata": {},
   "outputs": [],
   "source": [
    "df_ptje = df_ptje[['mrun','idalumno','gen_alu','rbd','grado','letra_curso','cod_curso',\n",
    "                   'ptje_lect8b_alu','ptje_mate8b_alu','ptje_nat8b_alu']]"
   ]
  },
  {
   "cell_type": "code",
   "execution_count": 20,
   "id": "67a667ee",
   "metadata": {},
   "outputs": [],
   "source": [
    "df_ptje = df_ptje.sort_values(by=['ptje_lect8b_alu','ptje_mate8b_alu','ptje_nat8b_alu'])\n",
    "df_ptje = df_ptje.drop_duplicates(subset=['mrun'],keep='first')"
   ]
  },
  {
   "cell_type": "markdown",
   "id": "b6a4a807",
   "metadata": {},
   "source": [
    "## CALU"
   ]
  },
  {
   "cell_type": "markdown",
   "id": "eb416513",
   "metadata": {},
   "source": [
    "cest_p06\t\"Pensando en tu futuro, ¿cuál es el nivel de educación más alto que crees que vas a poder completar?\n",
    "\n",
    "\"\t\"0: Vacío\n",
    "1: No creo que llegue a completar IV año de EM\n",
    "2: Completaré IV año de EM\n",
    "3: Completaré una carrera en CFT o IP\n",
    "4: Completaré una carrera en una U\n",
    "99: Doble marca\""
   ]
  },
  {
   "cell_type": "code",
   "execution_count": 21,
   "id": "363e69db",
   "metadata": {},
   "outputs": [],
   "source": [
    "df_est = pd.read_csv(path + r'\\simce8b2015_cest_privadas_final-SEG.csv', sep='|')"
   ]
  },
  {
   "cell_type": "code",
   "execution_count": 22,
   "id": "daef1a25",
   "metadata": {
    "scrolled": true
   },
   "outputs": [
    {
     "name": "stdout",
     "output_type": "stream",
     "text": [
      "agno\n",
      "codigo_bbdd\n",
      "fecha_bbdd\n",
      "idalumno\n",
      "rbd\n",
      "dvrbd\n",
      "grado\n",
      "curso\n",
      "cod_curso\n",
      "letra_curso\n",
      "cest_p01\n",
      "cest_p02\n",
      "cest_p03\n",
      "cest_p04_01\n",
      "cest_p04_02\n",
      "cest_p04_03\n",
      "cest_p04_04\n",
      "cest_p04_05\n",
      "cest_p04_06\n",
      "cest_p04_07\n",
      "cest_p04_08\n",
      "cest_p04_09\n",
      "cest_p04_10\n",
      "cest_p04_11\n",
      "cest_p04_12\n",
      "cest_p05_01\n",
      "cest_p05_02\n",
      "cest_p05_03\n",
      "cest_p05_04\n",
      "cest_p05_05\n",
      "cest_p05_06\n",
      "cest_p05_07\n",
      "cest_p05_08\n",
      "cest_p05_09\n",
      "cest_p05_10\n",
      "cest_p05_11\n",
      "cest_p05_12\n",
      "cest_p05_13\n",
      "cest_p05_14\n",
      "cest_p05_15\n",
      "cest_p06\n",
      "cest_p07_01\n",
      "cest_p07_02\n",
      "cest_p07_03\n",
      "cest_p07_04\n",
      "cest_p07_05\n",
      "cest_p08\n",
      "cest_p09_01\n",
      "cest_p09_02\n",
      "cest_p09_03\n",
      "cest_p09_04\n",
      "cest_p09_05\n",
      "cest_p09_06\n",
      "cest_p09_07\n",
      "cest_p09_08\n",
      "cest_p09_09\n",
      "cest_p09_10\n",
      "cest_p09_11\n",
      "cest_p10_01\n",
      "cest_p10_02\n",
      "cest_p10_03\n",
      "cest_p10_04\n",
      "cest_p10_05\n",
      "cest_p10_06\n",
      "cest_p10_07\n",
      "cest_p11_01\n",
      "cest_p11_02\n",
      "cest_p11_03\n",
      "cest_p11_04\n",
      "cest_p11_05\n",
      "cest_p12_01\n",
      "cest_p12_02\n",
      "cest_p12_03\n",
      "cest_p12_04\n",
      "cest_p12_05\n",
      "cest_p12_06\n",
      "cest_p13_01\n",
      "cest_p13_02\n",
      "cest_p13_03\n",
      "cest_p13_04\n",
      "cest_p13_05\n",
      "cest_p13_06\n",
      "cest_p14_01\n",
      "cest_p14_02\n",
      "cest_p14_03\n",
      "cest_p14_04\n",
      "cest_p15_01\n",
      "cest_p15_02\n",
      "cest_p15_03\n",
      "cest_p15_04\n",
      "cest_p15_05\n",
      "cest_p15_06\n",
      "cest_p16_01\n",
      "cest_p16_02\n",
      "cest_p17_01\n",
      "cest_p17_02\n",
      "cest_p17_03\n",
      "cest_p17_04\n",
      "cest_p17_05\n",
      "cest_p18_01\n",
      "cest_p18_02\n",
      "cest_p18_03\n",
      "cest_p18_04\n",
      "cest_p18_05\n",
      "cest_p18_06\n",
      "cest_p18_07\n",
      "cest_p18_08\n",
      "cest_p18_09\n",
      "cest_p18_10\n",
      "cest_p18_11\n",
      "cest_p18_12\n",
      "cest_p18_13\n",
      "cest_p19_01\n",
      "cest_p19_02\n",
      "cest_p19_03\n",
      "cest_p20_01\n",
      "cest_p20_02\n",
      "cest_p21_01\n",
      "cest_p21_02\n",
      "cest_p21_03\n",
      "cest_p22_01\n",
      "cest_p22_02\n",
      "cest_p22_03\n",
      "cest_p22_04\n",
      "cest_p22_05\n",
      "cest_p22_06\n",
      "cest_p22_07\n",
      "cest_p22_08\n",
      "cest_p23_01\n",
      "cest_p23_02\n",
      "cest_p23_03\n",
      "cest_p23_04\n",
      "cest_p24_01\n",
      "cest_p24_02\n",
      "cest_p24_03\n",
      "cest_p24_04\n",
      "cest_p24_05\n",
      "cest_p25_01\n",
      "cest_p25_02\n",
      "cest_p25_03\n",
      "cest_p25_04\n",
      "cest_p26_01\n",
      "cest_p26_02\n",
      "cest_p26_03\n",
      "cest_p27_01\n",
      "cest_p27_02\n",
      "cest_p27_03\n",
      "cest_p27_04\n",
      "cest_p27_05\n",
      "cest_p28_01\n",
      "cest_p28_02\n",
      "cest_p28_03\n",
      "cest_p28_04\n",
      "cest_p28_05\n",
      "cest_p28_06\n",
      "cest_p28_07\n",
      "cest_p28_08\n",
      "cest_p28_09\n",
      "cest_p29\n",
      "cest_p30_01\n",
      "cest_p30_02\n",
      "cest_p30_03\n",
      "cest_p30_04\n",
      "cest_p31_01\n",
      "cest_p31_02\n",
      "cest_p32_01\n",
      "cest_p32_02\n",
      "cest_p32_03\n",
      "cest_p32_04\n",
      "cest_p33_01\n",
      "cest_p33_02\n",
      "cest_p34_01\n",
      "cest_p34_02\n",
      "cest_p34_03\n",
      "cest_p34_04\n",
      "cest_p35_01\n",
      "cest_p35_02\n",
      "cest_p36_01\n",
      "cest_p36_02\n",
      "cest_p36_03\n",
      "cest_p36_04\n",
      "cest_p36_05\n",
      "cest_p36_06\n",
      "cest_p37_01\n",
      "cest_p37_02\n",
      "cest_p37_03\n",
      "cest_p37_04\n",
      "cest_p37_05\n",
      "cest_p38_01\n",
      "cest_p38_02\n",
      "cest_p38_03\n",
      "cest_p38_04\n",
      "cest_p39_01\n",
      "cest_p39_02\n",
      "cest_p39_03\n",
      "cest_p40_01\n",
      "cest_p40_02\n",
      "cest_p40_03\n",
      "cest_p40_04\n",
      "cest_p40_05\n",
      "cest_p40_06\n",
      "cest_p41\n",
      "cest_p42_01\n",
      "cest_p42_02\n",
      "cest_p42_03\n",
      "cest_p42_04\n",
      "noptje_seg\n"
     ]
    }
   ],
   "source": [
    "for col in df_est.columns:\n",
    "    print(col)"
   ]
  },
  {
   "cell_type": "code",
   "execution_count": 23,
   "id": "e8fc0d98",
   "metadata": {
    "scrolled": true
   },
   "outputs": [
    {
     "data": {
      "text/plain": [
       "0.0     0.016666\n",
       "1.0     0.009375\n",
       "2.0     0.100732\n",
       "3.0     0.197323\n",
       "4.0     0.665617\n",
       "99.0    0.008775\n",
       "NaN     0.001512\n",
       "Name: cest_p06, dtype: float64"
      ]
     },
     "execution_count": 23,
     "metadata": {},
     "output_type": "execute_result"
    }
   ],
   "source": [
    "df_est.cest_p06.value_counts(dropna=False).sort_index()/len(df_est)"
   ]
  },
  {
   "cell_type": "code",
   "execution_count": 24,
   "id": "85808180",
   "metadata": {},
   "outputs": [
    {
     "data": {
      "text/plain": [
       "129060    1\n",
       "213151    1\n",
       "18547     1\n",
       "197640    1\n",
       "241557    1\n",
       "         ..\n",
       "21888     1\n",
       "4802      1\n",
       "252528    1\n",
       "10522     1\n",
       "204984    1\n",
       "Name: idalumno, Length: 214927, dtype: int64"
      ]
     },
     "execution_count": 24,
     "metadata": {},
     "output_type": "execute_result"
    }
   ],
   "source": [
    "df_est.idalumno.value_counts()"
   ]
  },
  {
   "cell_type": "code",
   "execution_count": 25,
   "id": "fa3a9ed1",
   "metadata": {},
   "outputs": [],
   "source": [
    "df_est = df_est[['idalumno','cest_p06']]"
   ]
  },
  {
   "cell_type": "code",
   "execution_count": 26,
   "id": "77cf0e6f",
   "metadata": {},
   "outputs": [],
   "source": [
    "df_est = df_est.rename(columns = {'cest_p06':'student_exp'})\n",
    "df_est.loc[:,'student_exp_binary'] = np.nan\n",
    "\n",
    "df_est.loc[df_est.student_exp.isin([1,2,3]),'student_exp_binary'] = 0\n",
    "df_est.loc[df_est.student_exp.isin([4]),'student_exp_binary'] = 1 "
   ]
  },
  {
   "cell_type": "code",
   "execution_count": 27,
   "id": "c09a89b3",
   "metadata": {},
   "outputs": [
    {
     "data": {
      "text/plain": [
       "1.0    0.665617\n",
       "0.0    0.307430\n",
       "NaN    0.026953\n",
       "Name: student_exp_binary, dtype: float64"
      ]
     },
     "execution_count": 27,
     "metadata": {},
     "output_type": "execute_result"
    }
   ],
   "source": [
    "df_est.student_exp_binary.value_counts(dropna=False)/len(df_est)"
   ]
  },
  {
   "cell_type": "markdown",
   "id": "fbf5c82d",
   "metadata": {},
   "source": [
    "## School"
   ]
  },
  {
   "cell_type": "code",
   "execution_count": 28,
   "id": "0e986719",
   "metadata": {},
   "outputs": [],
   "source": [
    "df_ee = pd.read_csv(r'C:\\Users\\JoaquinFarina\\OneDrive - Teachers College, Columbia University\\Desktop\\TESIS\\MINEDUC\\EE_15.csv')"
   ]
  },
  {
   "cell_type": "code",
   "execution_count": 29,
   "id": "b8dde392",
   "metadata": {},
   "outputs": [],
   "source": [
    "df_ee = df_ee[['rbd','cod_depe2', 'rural_rbd']]"
   ]
  },
  {
   "cell_type": "markdown",
   "id": "9efd19f1",
   "metadata": {},
   "source": [
    "# Otras variables"
   ]
  },
  {
   "cell_type": "markdown",
   "id": "a7fea6e1",
   "metadata": {},
   "source": [
    "## Prioritario"
   ]
  },
  {
   "cell_type": "code",
   "execution_count": 30,
   "id": "a606e8a8",
   "metadata": {},
   "outputs": [],
   "source": [
    "sep_alu = pd.read_csv(r'C:\\Users\\JoaquinFarina\\OneDrive - Teachers College, Columbia University\\Desktop\\TESIS\\MINEDUC\\SEP_15.csv', sep = ';')"
   ]
  },
  {
   "cell_type": "code",
   "execution_count": 31,
   "id": "f58aa0f4",
   "metadata": {},
   "outputs": [],
   "source": [
    "sep_alu = sep_alu[['MRUN', 'BEN_SEP']]\n",
    "sep_alu.columns = [x.lower() for x in sep_alu.columns]"
   ]
  },
  {
   "cell_type": "markdown",
   "id": "8d18196e",
   "metadata": {},
   "source": [
    "## IVE"
   ]
  },
  {
   "cell_type": "code",
   "execution_count": 32,
   "id": "87ea6785",
   "metadata": {},
   "outputs": [],
   "source": [
    "ive_ee = pd.read_excel(r'C:\\Users\\JoaquinFarina\\OneDrive - Teachers College, Columbia University\\Desktop\\TESIS\\MINEDUC\\IVE_15.xlsx')"
   ]
  },
  {
   "cell_type": "code",
   "execution_count": 33,
   "id": "ef2b25a3",
   "metadata": {},
   "outputs": [],
   "source": [
    "ive_ee = ive_ee[['RBD','IVE-SINAE BASICA 2015']]\n",
    "ive_ee = ive_ee.rename(columns = {'RBD':'rbd','IVE-SINAE BASICA 2015':'ive'})"
   ]
  },
  {
   "cell_type": "markdown",
   "id": "25f7b917",
   "metadata": {},
   "source": [
    "# Asistencia y repitencia"
   ]
  },
  {
   "cell_type": "code",
   "execution_count": 34,
   "id": "3d80d16e",
   "metadata": {},
   "outputs": [],
   "source": [
    "rend_alu = pd.read_csv(r'C:\\Users\\JoaquinFarina\\OneDrive - Teachers College, Columbia University\\Desktop\\TESIS\\MINEDUC\\REND_15.csv', sep = ';', encoding='latin-1')"
   ]
  },
  {
   "cell_type": "code",
   "execution_count": 35,
   "id": "235c3229",
   "metadata": {},
   "outputs": [],
   "source": [
    "rend_alu = rend_alu[['MRUN','PROM_GRAL', 'ASISTENCIA', 'SIT_FIN_R']]\n",
    "rend_alu.columns = [x.lower() for x in rend_alu.columns]"
   ]
  },
  {
   "cell_type": "code",
   "execution_count": 36,
   "id": "80bf10be",
   "metadata": {},
   "outputs": [],
   "source": [
    "rend_alu = rend_alu[~rend_alu.sit_fin_r.isin(['T','Y'])]\n",
    "rend_alu = rend_alu.drop_duplicates(subset=['mrun'])"
   ]
  },
  {
   "cell_type": "markdown",
   "id": "38c404b8",
   "metadata": {},
   "source": [
    "# Merge"
   ]
  },
  {
   "cell_type": "code",
   "execution_count": 37,
   "id": "6446656a",
   "metadata": {},
   "outputs": [],
   "source": [
    "df_tot = pd.merge(df_ptje, df_est, on ='idalumno', how = 'left', validate = '1:1' )\n",
    "df_tot = pd.merge(df_tot, df_apo, on ='idalumno', how = 'left', validate = '1:1' )\n",
    "df_tot = pd.merge(df_tot, df_prof, on ='cod_curso', how = 'left', validate =  'many_to_one')\n",
    "df_tot = pd.merge(df_tot, df_ee, on ='rbd', how = 'left', validate = 'many_to_one' )\n",
    "\n",
    "df_tot = pd.merge(df_tot, sep_alu, on ='mrun', how = 'left', validate = '1:1' )\n",
    "df_tot = pd.merge(df_tot, ive_ee, on ='rbd', how = 'left', validate = 'many_to_one' )\n",
    "df_tot = pd.merge(df_tot, rend_alu, on ='mrun', how = 'left', validate = '1:1' )"
   ]
  },
  {
   "cell_type": "markdown",
   "id": "75740c21",
   "metadata": {},
   "source": [
    "# Class and school level students, parents and teachers expectations "
   ]
  },
  {
   "cell_type": "code",
   "execution_count": 38,
   "id": "bc5e1031",
   "metadata": {},
   "outputs": [],
   "source": [
    "df_tot['student_exp_binary_class'] = df_tot.groupby('cod_curso').student_exp_binary.transform('mean')\n",
    "df_tot['student_exp_binary_school'] = df_tot.groupby('rbd').student_exp_binary.transform('mean')\n",
    "\n",
    "df_tot['teacher_exp_binary_class'] = df_tot.groupby('cod_curso').teacher_exp_binary.transform('mean')\n",
    "df_tot['teacher_exp_binary_school'] = df_tot.groupby('rbd').teacher_exp_binary.transform('mean')\n",
    "\n",
    "df_tot['parent_exp_binary_class'] = df_tot.groupby('cod_curso').parent_exp_binary.transform('mean')\n",
    "df_tot['parent_exp_binary_school'] = df_tot.groupby('rbd').parent_exp_binary.transform('mean')"
   ]
  },
  {
   "cell_type": "markdown",
   "id": "a6692684",
   "metadata": {},
   "source": [
    "# Z-score"
   ]
  },
  {
   "cell_type": "code",
   "execution_count": 39,
   "id": "3b3f8bf6",
   "metadata": {},
   "outputs": [],
   "source": [
    "df_tot.gen_alu.replace({'Hombres':1, 'Mujeres':2},inplace=True)\n",
    "df_tot['prom_gral'] = df_tot.prom_gral.str.replace(',','.').astype(float)\n",
    "df_tot.sit_fin_r.replace({'P':0, 'R':1},inplace=True)"
   ]
  },
  {
   "cell_type": "code",
   "execution_count": 40,
   "id": "bf9b146f",
   "metadata": {},
   "outputs": [],
   "source": [
    "import scipy"
   ]
  },
  {
   "cell_type": "code",
   "execution_count": 41,
   "id": "6a1e4026",
   "metadata": {},
   "outputs": [
    {
     "data": {
      "text/plain": [
       "NaN          31293\n",
       "358.91000      238\n",
       "362.63000      195\n",
       "357.56000      177\n",
       "373.16000      138\n",
       "             ...  \n",
       "130.85001        1\n",
       "309.95001        1\n",
       "130.86000        1\n",
       "309.89001        1\n",
       "116.65000        1\n",
       "Name: ptje_lect8b_alu, Length: 20182, dtype: int64"
      ]
     },
     "execution_count": 41,
     "metadata": {},
     "output_type": "execute_result"
    }
   ],
   "source": [
    "df_tot.ptje_lect8b_alu.value_counts(dropna=False)"
   ]
  },
  {
   "cell_type": "code",
   "execution_count": 42,
   "id": "233635e1",
   "metadata": {},
   "outputs": [
    {
     "name": "stdout",
     "output_type": "stream",
     "text": [
      "ptje_lect8b_alu\n",
      "ptje_mate8b_alu\n",
      "ptje_nat8b_alu\n",
      "ive\n",
      "asistencia\n",
      "prom_gral\n",
      "student_exp_binary_school\n",
      "teacher_exp_binary_school\n",
      "parent_exp_binary_school\n"
     ]
    }
   ],
   "source": [
    "for col in ['ptje_lect8b_alu', 'ptje_mate8b_alu', 'ptje_nat8b_alu','ive', 'asistencia','prom_gral',\n",
    "           'student_exp_binary_school', 'teacher_exp_binary_school','parent_exp_binary_school']:\n",
    "    print(col)\n",
    "    df_tot[col + '_z'] = (df_tot[col] - df_tot[col].mean())/df_tot[col].std(ddof=0)"
   ]
  },
  {
   "cell_type": "code",
   "execution_count": 43,
   "id": "69fb66c7",
   "metadata": {},
   "outputs": [],
   "source": []
  },
  {
   "cell_type": "markdown",
   "id": "cf015b54",
   "metadata": {},
   "source": [
    "# STATS"
   ]
  },
  {
   "cell_type": "code",
   "execution_count": 49,
   "id": "b1b1c6f9",
   "metadata": {},
   "outputs": [
    {
     "data": {
      "text/plain": [
       "245440"
      ]
     },
     "execution_count": 49,
     "metadata": {},
     "output_type": "execute_result"
    }
   ],
   "source": [
    "len(df_tot.mrun.unique())"
   ]
  },
  {
   "cell_type": "code",
   "execution_count": 50,
   "id": "62f9f1b2",
   "metadata": {},
   "outputs": [
    {
     "data": {
      "text/plain": [
       "5951"
      ]
     },
     "execution_count": 50,
     "metadata": {},
     "output_type": "execute_result"
    }
   ],
   "source": [
    "len(df_tot.rbd.unique())"
   ]
  },
  {
   "cell_type": "code",
   "execution_count": 51,
   "id": "329c2edd",
   "metadata": {},
   "outputs": [
    {
     "data": {
      "text/plain": [
       "8757"
      ]
     },
     "execution_count": 51,
     "metadata": {},
     "output_type": "execute_result"
    }
   ],
   "source": [
    "len(df_tot.cod_curso.unique())"
   ]
  },
  {
   "cell_type": "code",
   "execution_count": 52,
   "id": "d767faa3",
   "metadata": {},
   "outputs": [
    {
     "data": {
      "text/plain": [
       "mrun                           0.000000\n",
       "idalumno                       0.000000\n",
       "gen_alu                        0.000000\n",
       "rbd                            0.000000\n",
       "grado                          0.000000\n",
       "letra_curso                    0.000000\n",
       "cod_curso                      0.000000\n",
       "ptje_lect8b_alu                0.127498\n",
       "ptje_mate8b_alu                0.121248\n",
       "ptje_nat8b_alu                 0.120803\n",
       "student_exp                    0.126010\n",
       "student_exp_binary             0.148264\n",
       "parent_exp                     0.214883\n",
       "parent_exp_binary              0.232863\n",
       "teacher_exp                    0.414093\n",
       "teacher_exp_binary             0.424527\n",
       "cod_depe2                      0.000000\n",
       "rural_rbd                      0.000000\n",
       "ben_sep                        0.546301\n",
       "ive                            0.078895\n",
       "prom_gral                      0.016309\n",
       "asistencia                     0.016309\n",
       "sit_fin_r                      0.016309\n",
       "student_exp_binary_class       0.001149\n",
       "student_exp_binary_school      0.001088\n",
       "teacher_exp_binary_class       0.424527\n",
       "teacher_exp_binary_school      0.408446\n",
       "parent_exp_binary_class        0.002180\n",
       "parent_exp_binary_school       0.001544\n",
       "ptje_lect8b_alu_z              0.127498\n",
       "ptje_mate8b_alu_z              0.121248\n",
       "ptje_nat8b_alu_z               0.120803\n",
       "ive_z                          0.078895\n",
       "asistencia_z                   0.016309\n",
       "prom_gral_z                    0.016309\n",
       "student_exp_binary_school_z    0.001088\n",
       "teacher_exp_binary_school_z    0.408446\n",
       "parent_exp_binary_school_z     0.001544\n",
       "dtype: float64"
      ]
     },
     "execution_count": 52,
     "metadata": {},
     "output_type": "execute_result"
    }
   ],
   "source": [
    "df_tot.isna().sum()/len(df_tot)"
   ]
  },
  {
   "cell_type": "code",
   "execution_count": 55,
   "id": "56e6488a",
   "metadata": {},
   "outputs": [],
   "source": [
    "# Gender \n",
    "df_tot.loc[:, 'gen_alu_bin'] = df_tot.gen_alu - 1"
   ]
  },
  {
   "cell_type": "code",
   "execution_count": 60,
   "id": "c760ee3c",
   "metadata": {},
   "outputs": [],
   "source": [
    "# cod_depe - majority class = 49% charter\n",
    "df_tot['cod_depe2'] = df_tot.cod_depe2.replace(4,2)\n",
    "df_tot.loc[:, 'cod_depe2_public'] = (df_tot.cod_depe2 == 1).astype(int)\n",
    "df_tot.loc[:, 'cod_depe2_private'] = (df_tot.cod_depe2 == 3).astype(int)\n"
   ]
  },
  {
   "cell_type": "code",
   "execution_count": 63,
   "id": "4ac8f209",
   "metadata": {},
   "outputs": [
    {
     "data": {
      "text/plain": [
       "0    0.576821\n",
       "1    0.423179\n",
       "Name: cod_depe2_public, dtype: float64"
      ]
     },
     "execution_count": 63,
     "metadata": {},
     "output_type": "execute_result"
    }
   ],
   "source": [
    "df_tot.cod_depe2_public.value_counts(dropna=False)/len(df_tot)"
   ]
  },
  {
   "cell_type": "code",
   "execution_count": 65,
   "id": "7d206aa3",
   "metadata": {},
   "outputs": [
    {
     "name": "stdout",
     "output_type": "stream",
     "text": [
      "<class 'pandas.core.frame.DataFrame'>\n",
      "Int64Index: 245440 entries, 0 to 245439\n",
      "Data columns (total 41 columns):\n",
      " #   Column                       Non-Null Count   Dtype  \n",
      "---  ------                       --------------   -----  \n",
      " 0   mrun                         245440 non-null  int64  \n",
      " 1   idalumno                     245440 non-null  int64  \n",
      " 2   gen_alu                      245440 non-null  int64  \n",
      " 3   rbd                          245440 non-null  object \n",
      " 4   grado                        245440 non-null  object \n",
      " 5   letra_curso                  245440 non-null  object \n",
      " 6   cod_curso                    245440 non-null  int64  \n",
      " 7   ptje_lect8b_alu              214147 non-null  float64\n",
      " 8   ptje_mate8b_alu              215681 non-null  float64\n",
      " 9   ptje_nat8b_alu               215790 non-null  float64\n",
      " 10  student_exp                  214512 non-null  float64\n",
      " 11  student_exp_binary           209050 non-null  float64\n",
      " 12  parent_exp                   192699 non-null  float64\n",
      " 13  parent_exp_binary            188286 non-null  float64\n",
      " 14  teacher_exp                  143805 non-null  float64\n",
      " 15  teacher_exp_binary           141244 non-null  float64\n",
      " 16  cod_depe2                    245440 non-null  int64  \n",
      " 17  rural_rbd                    245440 non-null  int64  \n",
      " 18  ben_sep                      111356 non-null  float64\n",
      " 19  ive                          226076 non-null  float64\n",
      " 20  prom_gral                    241437 non-null  float64\n",
      " 21  asistencia                   241437 non-null  float64\n",
      " 22  sit_fin_r                    241437 non-null  float64\n",
      " 23  student_exp_binary_class     245158 non-null  float64\n",
      " 24  student_exp_binary_school    245173 non-null  float64\n",
      " 25  teacher_exp_binary_class     141244 non-null  float64\n",
      " 26  teacher_exp_binary_school    145191 non-null  float64\n",
      " 27  parent_exp_binary_class      244905 non-null  float64\n",
      " 28  parent_exp_binary_school     245061 non-null  float64\n",
      " 29  ptje_lect8b_alu_z            214147 non-null  float64\n",
      " 30  ptje_mate8b_alu_z            215681 non-null  float64\n",
      " 31  ptje_nat8b_alu_z             215790 non-null  float64\n",
      " 32  ive_z                        226076 non-null  float64\n",
      " 33  asistencia_z                 241437 non-null  float64\n",
      " 34  prom_gral_z                  241437 non-null  float64\n",
      " 35  student_exp_binary_school_z  245173 non-null  float64\n",
      " 36  teacher_exp_binary_school_z  145191 non-null  float64\n",
      " 37  parent_exp_binary_school_z   245061 non-null  float64\n",
      " 38  gen_alu_bin                  245440 non-null  int64  \n",
      " 39  cod_depe2_public             245440 non-null  int32  \n",
      " 40  cod_depe2_private            245440 non-null  int32  \n",
      "dtypes: float64(29), int32(2), int64(7), object(3)\n",
      "memory usage: 76.8+ MB\n"
     ]
    }
   ],
   "source": [
    "df_tot.info()"
   ]
  },
  {
   "cell_type": "code",
   "execution_count": 69,
   "id": "d57ffbf2",
   "metadata": {},
   "outputs": [
    {
     "data": {
      "text/html": [
       "<div>\n",
       "<style scoped>\n",
       "    .dataframe tbody tr th:only-of-type {\n",
       "        vertical-align: middle;\n",
       "    }\n",
       "\n",
       "    .dataframe tbody tr th {\n",
       "        vertical-align: top;\n",
       "    }\n",
       "\n",
       "    .dataframe thead th {\n",
       "        text-align: right;\n",
       "    }\n",
       "</style>\n",
       "<table border=\"1\" class=\"dataframe\">\n",
       "  <thead>\n",
       "    <tr style=\"text-align: right;\">\n",
       "      <th></th>\n",
       "      <th>student_exp_binary</th>\n",
       "    </tr>\n",
       "  </thead>\n",
       "  <tbody>\n",
       "    <tr>\n",
       "      <th>count</th>\n",
       "      <td>5859.000000</td>\n",
       "    </tr>\n",
       "    <tr>\n",
       "      <th>mean</th>\n",
       "      <td>0.625652</td>\n",
       "    </tr>\n",
       "    <tr>\n",
       "      <th>std</th>\n",
       "      <td>0.199592</td>\n",
       "    </tr>\n",
       "    <tr>\n",
       "      <th>min</th>\n",
       "      <td>0.000000</td>\n",
       "    </tr>\n",
       "    <tr>\n",
       "      <th>25%</th>\n",
       "      <td>0.500000</td>\n",
       "    </tr>\n",
       "    <tr>\n",
       "      <th>50%</th>\n",
       "      <td>0.625000</td>\n",
       "    </tr>\n",
       "    <tr>\n",
       "      <th>75%</th>\n",
       "      <td>0.777778</td>\n",
       "    </tr>\n",
       "    <tr>\n",
       "      <th>max</th>\n",
       "      <td>1.000000</td>\n",
       "    </tr>\n",
       "  </tbody>\n",
       "</table>\n",
       "</div>"
      ],
      "text/plain": [
       "       student_exp_binary\n",
       "count         5859.000000\n",
       "mean             0.625652\n",
       "std              0.199592\n",
       "min              0.000000\n",
       "25%              0.500000\n",
       "50%              0.625000\n",
       "75%              0.777778\n",
       "max              1.000000"
      ]
     },
     "execution_count": 69,
     "metadata": {},
     "output_type": "execute_result"
    }
   ],
   "source": [
    "df_tot[['rbd', 'student_exp_binary']].groupby(['rbd']).mean().describe()"
   ]
  },
  {
   "cell_type": "code",
   "execution_count": 70,
   "id": "38074423",
   "metadata": {},
   "outputs": [
    {
     "data": {
      "text/plain": [
       "Index(['mrun', 'idalumno', 'gen_alu', 'rbd', 'grado', 'letra_curso',\n",
       "       'cod_curso', 'ptje_lect8b_alu', 'ptje_mate8b_alu', 'ptje_nat8b_alu',\n",
       "       'student_exp', 'student_exp_binary', 'parent_exp', 'parent_exp_binary',\n",
       "       'teacher_exp', 'teacher_exp_binary', 'cod_depe2', 'rural_rbd',\n",
       "       'ben_sep', 'ive', 'prom_gral', 'asistencia', 'sit_fin_r',\n",
       "       'student_exp_binary_class', 'student_exp_binary_school',\n",
       "       'teacher_exp_binary_class', 'teacher_exp_binary_school',\n",
       "       'parent_exp_binary_class', 'parent_exp_binary_school',\n",
       "       'ptje_lect8b_alu_z', 'ptje_mate8b_alu_z', 'ptje_nat8b_alu_z', 'ive_z',\n",
       "       'asistencia_z', 'prom_gral_z', 'student_exp_binary_school_z',\n",
       "       'teacher_exp_binary_school_z', 'parent_exp_binary_school_z',\n",
       "       'gen_alu_bin', 'cod_depe2_public', 'cod_depe2_private'],\n",
       "      dtype='object')"
      ]
     },
     "execution_count": 70,
     "metadata": {},
     "output_type": "execute_result"
    }
   ],
   "source": [
    "df_tot.columns"
   ]
  },
  {
   "cell_type": "code",
   "execution_count": 76,
   "id": "42f3fa88",
   "metadata": {},
   "outputs": [
    {
     "data": {
      "text/html": [
       "<div>\n",
       "<style scoped>\n",
       "    .dataframe tbody tr th:only-of-type {\n",
       "        vertical-align: middle;\n",
       "    }\n",
       "\n",
       "    .dataframe tbody tr th {\n",
       "        vertical-align: top;\n",
       "    }\n",
       "\n",
       "    .dataframe thead th {\n",
       "        text-align: right;\n",
       "    }\n",
       "</style>\n",
       "<table border=\"1\" class=\"dataframe\">\n",
       "  <thead>\n",
       "    <tr style=\"text-align: right;\">\n",
       "      <th></th>\n",
       "      <th>student_exp_binary</th>\n",
       "      <th>ptje_mate8b_alu_z</th>\n",
       "      <th>prom_gral_z</th>\n",
       "      <th>ben_sep</th>\n",
       "      <th>ive_z</th>\n",
       "      <th>gen_alu_bin</th>\n",
       "      <th>cod_depe2_public</th>\n",
       "      <th>cod_depe2_private</th>\n",
       "    </tr>\n",
       "  </thead>\n",
       "  <tbody>\n",
       "    <tr>\n",
       "      <th>student_exp_binary</th>\n",
       "      <td>1.000000</td>\n",
       "      <td>0.304077</td>\n",
       "      <td>0.282614</td>\n",
       "      <td>-0.115581</td>\n",
       "      <td>-0.248225</td>\n",
       "      <td>0.127657</td>\n",
       "      <td>-0.174635</td>\n",
       "      <td>0.144273</td>\n",
       "    </tr>\n",
       "    <tr>\n",
       "      <th>ptje_mate8b_alu_z</th>\n",
       "      <td>0.304077</td>\n",
       "      <td>1.000000</td>\n",
       "      <td>0.471527</td>\n",
       "      <td>-0.172099</td>\n",
       "      <td>-0.390361</td>\n",
       "      <td>-0.060574</td>\n",
       "      <td>-0.296190</td>\n",
       "      <td>0.292526</td>\n",
       "    </tr>\n",
       "    <tr>\n",
       "      <th>prom_gral_z</th>\n",
       "      <td>0.282614</td>\n",
       "      <td>0.471527</td>\n",
       "      <td>1.000000</td>\n",
       "      <td>-0.007485</td>\n",
       "      <td>-0.096241</td>\n",
       "      <td>0.145174</td>\n",
       "      <td>-0.026604</td>\n",
       "      <td>0.180160</td>\n",
       "    </tr>\n",
       "    <tr>\n",
       "      <th>ben_sep</th>\n",
       "      <td>-0.115581</td>\n",
       "      <td>-0.172099</td>\n",
       "      <td>-0.007485</td>\n",
       "      <td>1.000000</td>\n",
       "      <td>0.451453</td>\n",
       "      <td>-0.005762</td>\n",
       "      <td>0.305120</td>\n",
       "      <td>-0.221498</td>\n",
       "    </tr>\n",
       "    <tr>\n",
       "      <th>ive_z</th>\n",
       "      <td>-0.248225</td>\n",
       "      <td>-0.390361</td>\n",
       "      <td>-0.096241</td>\n",
       "      <td>0.451453</td>\n",
       "      <td>1.000000</td>\n",
       "      <td>-0.030115</td>\n",
       "      <td>0.430951</td>\n",
       "      <td>-0.041647</td>\n",
       "    </tr>\n",
       "    <tr>\n",
       "      <th>gen_alu_bin</th>\n",
       "      <td>0.127657</td>\n",
       "      <td>-0.060574</td>\n",
       "      <td>0.145174</td>\n",
       "      <td>-0.005762</td>\n",
       "      <td>-0.030115</td>\n",
       "      <td>1.000000</td>\n",
       "      <td>-0.022195</td>\n",
       "      <td>0.000949</td>\n",
       "    </tr>\n",
       "    <tr>\n",
       "      <th>cod_depe2_public</th>\n",
       "      <td>-0.174635</td>\n",
       "      <td>-0.296190</td>\n",
       "      <td>-0.026604</td>\n",
       "      <td>0.305120</td>\n",
       "      <td>0.430951</td>\n",
       "      <td>-0.022195</td>\n",
       "      <td>1.000000</td>\n",
       "      <td>-0.248533</td>\n",
       "    </tr>\n",
       "    <tr>\n",
       "      <th>cod_depe2_private</th>\n",
       "      <td>0.144273</td>\n",
       "      <td>0.292526</td>\n",
       "      <td>0.180160</td>\n",
       "      <td>-0.221498</td>\n",
       "      <td>-0.041647</td>\n",
       "      <td>0.000949</td>\n",
       "      <td>-0.248533</td>\n",
       "      <td>1.000000</td>\n",
       "    </tr>\n",
       "  </tbody>\n",
       "</table>\n",
       "</div>"
      ],
      "text/plain": [
       "                    student_exp_binary  ptje_mate8b_alu_z  prom_gral_z  \\\n",
       "student_exp_binary            1.000000           0.304077     0.282614   \n",
       "ptje_mate8b_alu_z             0.304077           1.000000     0.471527   \n",
       "prom_gral_z                   0.282614           0.471527     1.000000   \n",
       "ben_sep                      -0.115581          -0.172099    -0.007485   \n",
       "ive_z                        -0.248225          -0.390361    -0.096241   \n",
       "gen_alu_bin                   0.127657          -0.060574     0.145174   \n",
       "cod_depe2_public             -0.174635          -0.296190    -0.026604   \n",
       "cod_depe2_private             0.144273           0.292526     0.180160   \n",
       "\n",
       "                     ben_sep     ive_z  gen_alu_bin  cod_depe2_public  \\\n",
       "student_exp_binary -0.115581 -0.248225     0.127657         -0.174635   \n",
       "ptje_mate8b_alu_z  -0.172099 -0.390361    -0.060574         -0.296190   \n",
       "prom_gral_z        -0.007485 -0.096241     0.145174         -0.026604   \n",
       "ben_sep             1.000000  0.451453    -0.005762          0.305120   \n",
       "ive_z               0.451453  1.000000    -0.030115          0.430951   \n",
       "gen_alu_bin        -0.005762 -0.030115     1.000000         -0.022195   \n",
       "cod_depe2_public    0.305120  0.430951    -0.022195          1.000000   \n",
       "cod_depe2_private  -0.221498 -0.041647     0.000949         -0.248533   \n",
       "\n",
       "                    cod_depe2_private  \n",
       "student_exp_binary           0.144273  \n",
       "ptje_mate8b_alu_z            0.292526  \n",
       "prom_gral_z                  0.180160  \n",
       "ben_sep                     -0.221498  \n",
       "ive_z                       -0.041647  \n",
       "gen_alu_bin                  0.000949  \n",
       "cod_depe2_public            -0.248533  \n",
       "cod_depe2_private            1.000000  "
      ]
     },
     "execution_count": 76,
     "metadata": {},
     "output_type": "execute_result"
    }
   ],
   "source": [
    "df_hlm = df_tot[['rbd','student_exp_binary', 'ptje_mate8b_alu_z','prom_gral_z','ben_sep', 'ive_z', 'gen_alu_bin', 'cod_depe2_public', 'cod_depe2_private']]\n",
    "df_hlm.corr()"
   ]
  },
  {
   "cell_type": "code",
   "execution_count": 77,
   "id": "28c6d228",
   "metadata": {},
   "outputs": [
    {
     "data": {
      "text/html": [
       "<div>\n",
       "<style scoped>\n",
       "    .dataframe tbody tr th:only-of-type {\n",
       "        vertical-align: middle;\n",
       "    }\n",
       "\n",
       "    .dataframe tbody tr th {\n",
       "        vertical-align: top;\n",
       "    }\n",
       "\n",
       "    .dataframe thead th {\n",
       "        text-align: right;\n",
       "    }\n",
       "</style>\n",
       "<table border=\"1\" class=\"dataframe\">\n",
       "  <thead>\n",
       "    <tr style=\"text-align: right;\">\n",
       "      <th></th>\n",
       "      <th>student_exp_binary</th>\n",
       "      <th>ptje_mate8b_alu_z</th>\n",
       "      <th>prom_gral_z</th>\n",
       "      <th>ben_sep</th>\n",
       "      <th>ive_z</th>\n",
       "      <th>gen_alu_bin</th>\n",
       "      <th>cod_depe2_public</th>\n",
       "      <th>cod_depe2_private</th>\n",
       "    </tr>\n",
       "  </thead>\n",
       "  <tbody>\n",
       "    <tr>\n",
       "      <th>student_exp_binary</th>\n",
       "      <td>1.000000</td>\n",
       "      <td>0.630354</td>\n",
       "      <td>0.271190</td>\n",
       "      <td>-0.440153</td>\n",
       "      <td>-0.600002</td>\n",
       "      <td>0.219297</td>\n",
       "      <td>-0.418952</td>\n",
       "      <td>0.350664</td>\n",
       "    </tr>\n",
       "    <tr>\n",
       "      <th>ptje_mate8b_alu_z</th>\n",
       "      <td>0.630354</td>\n",
       "      <td>1.000000</td>\n",
       "      <td>0.348698</td>\n",
       "      <td>-0.454579</td>\n",
       "      <td>-0.601874</td>\n",
       "      <td>0.118854</td>\n",
       "      <td>-0.426364</td>\n",
       "      <td>0.431958</td>\n",
       "    </tr>\n",
       "    <tr>\n",
       "      <th>prom_gral_z</th>\n",
       "      <td>0.271190</td>\n",
       "      <td>0.348698</td>\n",
       "      <td>1.000000</td>\n",
       "      <td>-0.106446</td>\n",
       "      <td>-0.081023</td>\n",
       "      <td>0.101965</td>\n",
       "      <td>0.030444</td>\n",
       "      <td>0.257906</td>\n",
       "    </tr>\n",
       "    <tr>\n",
       "      <th>ben_sep</th>\n",
       "      <td>-0.440153</td>\n",
       "      <td>-0.454579</td>\n",
       "      <td>-0.106446</td>\n",
       "      <td>1.000000</td>\n",
       "      <td>0.578471</td>\n",
       "      <td>-0.053106</td>\n",
       "      <td>0.427812</td>\n",
       "      <td>-0.473487</td>\n",
       "    </tr>\n",
       "    <tr>\n",
       "      <th>ive_z</th>\n",
       "      <td>-0.600002</td>\n",
       "      <td>-0.601874</td>\n",
       "      <td>-0.081023</td>\n",
       "      <td>0.578471</td>\n",
       "      <td>1.000000</td>\n",
       "      <td>-0.123123</td>\n",
       "      <td>0.437815</td>\n",
       "      <td>-0.054478</td>\n",
       "    </tr>\n",
       "    <tr>\n",
       "      <th>gen_alu_bin</th>\n",
       "      <td>0.219297</td>\n",
       "      <td>0.118854</td>\n",
       "      <td>0.101965</td>\n",
       "      <td>-0.053106</td>\n",
       "      <td>-0.123123</td>\n",
       "      <td>1.000000</td>\n",
       "      <td>-0.059941</td>\n",
       "      <td>0.013060</td>\n",
       "    </tr>\n",
       "    <tr>\n",
       "      <th>cod_depe2_public</th>\n",
       "      <td>-0.418952</td>\n",
       "      <td>-0.426364</td>\n",
       "      <td>0.030444</td>\n",
       "      <td>0.427812</td>\n",
       "      <td>0.437815</td>\n",
       "      <td>-0.059941</td>\n",
       "      <td>1.000000</td>\n",
       "      <td>-0.263654</td>\n",
       "    </tr>\n",
       "    <tr>\n",
       "      <th>cod_depe2_private</th>\n",
       "      <td>0.350664</td>\n",
       "      <td>0.431958</td>\n",
       "      <td>0.257906</td>\n",
       "      <td>-0.473487</td>\n",
       "      <td>-0.054478</td>\n",
       "      <td>0.013060</td>\n",
       "      <td>-0.263654</td>\n",
       "      <td>1.000000</td>\n",
       "    </tr>\n",
       "  </tbody>\n",
       "</table>\n",
       "</div>"
      ],
      "text/plain": [
       "                    student_exp_binary  ptje_mate8b_alu_z  prom_gral_z  \\\n",
       "student_exp_binary            1.000000           0.630354     0.271190   \n",
       "ptje_mate8b_alu_z             0.630354           1.000000     0.348698   \n",
       "prom_gral_z                   0.271190           0.348698     1.000000   \n",
       "ben_sep                      -0.440153          -0.454579    -0.106446   \n",
       "ive_z                        -0.600002          -0.601874    -0.081023   \n",
       "gen_alu_bin                   0.219297           0.118854     0.101965   \n",
       "cod_depe2_public             -0.418952          -0.426364     0.030444   \n",
       "cod_depe2_private             0.350664           0.431958     0.257906   \n",
       "\n",
       "                     ben_sep     ive_z  gen_alu_bin  cod_depe2_public  \\\n",
       "student_exp_binary -0.440153 -0.600002     0.219297         -0.418952   \n",
       "ptje_mate8b_alu_z  -0.454579 -0.601874     0.118854         -0.426364   \n",
       "prom_gral_z        -0.106446 -0.081023     0.101965          0.030444   \n",
       "ben_sep             1.000000  0.578471    -0.053106          0.427812   \n",
       "ive_z               0.578471  1.000000    -0.123123          0.437815   \n",
       "gen_alu_bin        -0.053106 -0.123123     1.000000         -0.059941   \n",
       "cod_depe2_public    0.427812  0.437815    -0.059941          1.000000   \n",
       "cod_depe2_private  -0.473487 -0.054478     0.013060         -0.263654   \n",
       "\n",
       "                    cod_depe2_private  \n",
       "student_exp_binary           0.350664  \n",
       "ptje_mate8b_alu_z            0.431958  \n",
       "prom_gral_z                  0.257906  \n",
       "ben_sep                     -0.473487  \n",
       "ive_z                       -0.054478  \n",
       "gen_alu_bin                  0.013060  \n",
       "cod_depe2_public            -0.263654  \n",
       "cod_depe2_private            1.000000  "
      ]
     },
     "execution_count": 77,
     "metadata": {},
     "output_type": "execute_result"
    }
   ],
   "source": [
    "df_hlm.groupby(['rbd']).mean().corr()"
   ]
  },
  {
   "cell_type": "code",
   "execution_count": 79,
   "id": "e8ec97c3",
   "metadata": {},
   "outputs": [
    {
     "name": "stdout",
     "output_type": "stream",
     "text": [
      "rbd\n"
     ]
    },
    {
     "data": {
      "image/png": "[encoded data removed]",
      "text/plain": [
       "<Figure size 640x480 with 1 Axes>"
      ]
     },
     "metadata": {},
     "output_type": "display_data"
    },
    {
     "name": "stdout",
     "output_type": "stream",
     "text": [
      "student_exp_binary\n"
     ]
    },
    {
     "data": {
      "image/png": "[encoded data removed]",
      "text/plain": [
       "<Figure size 640x480 with 1 Axes>"
      ]
     },
     "metadata": {},
     "output_type": "display_data"
    },
    {
     "name": "stdout",
     "output_type": "stream",
     "text": [
      "ptje_mate8b_alu_z\n"
     ]
    },
    {
     "data": {
      "image/png": "[encoded data removed]",
      "text/plain": [
       "<Figure size 640x480 with 1 Axes>"
      ]
     },
     "metadata": {},
     "output_type": "display_data"
    },
    {
     "name": "stdout",
     "output_type": "stream",
     "text": [
      "prom_gral_z\n"
     ]
    },
    {
     "data": {
      "image/png": "[encoded data removed]",
      "text/plain": [
       "<Figure size 640x480 with 1 Axes>"
      ]
     },
     "metadata": {},
     "output_type": "display_data"
    },
    {
     "name": "stdout",
     "output_type": "stream",
     "text": [
      "ben_sep\n"
     ]
    },
    {
     "data": {
      "image/png": "[encoded data removed]",
      "text/plain": [
       "<Figure size 640x480 with 1 Axes>"
      ]
     },
     "metadata": {},
     "output_type": "display_data"
    },
    {
     "name": "stdout",
     "output_type": "stream",
     "text": [
      "ive_z\n"
     ]
    },
    {
     "data": {
      "image/png": "[encoded data removed]",
      "text/plain": [
       "<Figure size 640x480 with 1 Axes>"
      ]
     },
     "metadata": {},
     "output_type": "display_data"
    },
    {
     "name": "stdout",
     "output_type": "stream",
     "text": [
      "gen_alu_bin\n"
     ]
    },
    {
     "data": {
      "image/png": "[encoded data removed]",
      "text/plain": [
       "<Figure size 640x480 with 1 Axes>"
      ]
     },
     "metadata": {},
     "output_type": "display_data"
    },
    {
     "name": "stdout",
     "output_type": "stream",
     "text": [
      "cod_depe2_public\n"
     ]
    },
    {
     "data": {
      "image/png": "[encoded data removed]",
      "text/plain": [
       "<Figure size 640x480 with 1 Axes>"
      ]
     },
     "metadata": {},
     "output_type": "display_data"
    },
    {
     "name": "stdout",
     "output_type": "stream",
     "text": [
      "cod_depe2_private\n"
     ]
    },
    {
     "data": {
      "image/png": "[encoded data removed]",
      "text/plain": [
       "<Figure size 640x480 with 1 Axes>"
      ]
     },
     "metadata": {},
     "output_type": "display_data"
    }
   ],
   "source": [
    "import matplotlib.pyplot as plt\n",
    "for col in df_hlm.columns:\n",
    "    print(col)\n",
    "    plt.hist(df_hlm[col])\n",
    "    plt.show()"
   ]
  },
  {
   "cell_type": "code",
   "execution_count": 90,
   "id": "c3c7265a",
   "metadata": {},
   "outputs": [
    {
     "data": {
      "text/plain": [
       "0.5555555555555556"
      ]
     },
     "execution_count": 90,
     "metadata": {},
     "output_type": "execute_result"
    }
   ],
   "source": [
    "1/1.8"
   ]
  },
  {
   "cell_type": "code",
   "execution_count": 95,
   "id": "ab001c4c",
   "metadata": {},
   "outputs": [
    {
     "data": {
      "text/plain": [
       "(array([ 2903.,  7712., 10009., 13350., 16329., 18469., 21789., 19837.,\n",
       "        14487.,  5301.]),\n",
       " array([0.01122883, 0.14784033, 0.28445183, 0.42106333, 0.55767483,\n",
       "        0.69428633, 0.83089782, 0.96750932, 1.10412082, 1.24073232,\n",
       "        1.37734382]),\n",
       " <BarContainer object of 10 artists>)"
      ]
     },
     "execution_count": 95,
     "metadata": {},
     "output_type": "execute_result"
    },
    {
     "data": {
      "image/png": "[encoded data removed]",
      "text/plain": [
       "<Figure size 640x480 with 1 Axes>"
      ]
     },
     "metadata": {},
     "output_type": "display_data"
    }
   ],
   "source": [
    "plt.hist((df_hlm.ive_z)**(0.6))"
   ]
  },
  {
   "cell_type": "markdown",
   "id": "f3bba2d4",
   "metadata": {},
   "source": [
    "# Save"
   ]
  },
  {
   "cell_type": "code",
   "execution_count": 64,
   "id": "82ec4c98",
   "metadata": {},
   "outputs": [],
   "source": [
    "pyreadstat.write_sav(df_tot, 'chilean_test_scores_grade8_2015_expectations.sav')"
   ]
  }
 ],
 "metadata": {
  "kernelspec": {
   "display_name": "Python 3 (ipykernel)",
   "language": "python",
   "name": "python3"
  },
  "language_info": {
   "codemirror_mode": {
    "name": "ipython",
    "version": 3
   },
   "file_extension": ".py",
   "mimetype": "text/x-python",
   "name": "python",
   "nbconvert_exporter": "python",
   "pygments_lexer": "ipython3",
   "version": "3.9.13"
  },
  "latex_envs": {
   "LaTeX_envs_menu_present": true,
   "autoclose": false,
   "autocomplete": true,
   "bibliofile": "biblio.bib",
   "cite_by": "apalike",
   "current_citInitial": 1,
   "eqLabelWithNumbers": true,
   "eqNumInitial": 1,
   "hotkeys": {
    "equation": "Ctrl-E",
    "itemize": "Ctrl-I"
   },
   "labels_anchors": false,
   "latex_user_defs": false,
   "report_style_numbering": false,
   "user_envs_cfg": false
  },
  "toc": {
   "base_numbering": 1,
   "nav_menu": {},
   "number_sections": true,
   "sideBar": true,
   "skip_h1_title": false,
   "title_cell": "Table of Contents",
   "title_sidebar": "Contents",
   "toc_cell": false,
   "toc_position": {},
   "toc_section_display": true,
   "toc_window_display": true
  },
  "varInspector": {
   "cols": {
    "lenName": 16,
    "lenType": 16,
    "lenVar": 40
   },
   "kernels_config": {
    "python": {
     "delete_cmd_postfix": "",
     "delete_cmd_prefix": "del ",
     "library": "var_list.py",
     "varRefreshCmd": "print(var_dic_list())"
    },
    "r": {
     "delete_cmd_postfix": ") ",
     "delete_cmd_prefix": "rm(",
     "library": "var_list.r",
     "varRefreshCmd": "cat(var_dic_list()) "
    }
   },
   "types_to_exclude": [
    "module",
    "function",
    "builtin_function_or_method",
    "instance",
    "_Feature"
   ],
   "window_display": false
  }
 },
 "nbformat": 4,
 "nbformat_minor": 5
}
